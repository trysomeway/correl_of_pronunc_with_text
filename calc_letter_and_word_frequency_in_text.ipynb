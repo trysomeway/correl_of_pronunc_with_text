{
 "cells": [
  {
   "cell_type": "code",
   "execution_count": 11,
   "outputs": [],
   "source": [
    "from adjustText import adjust_text\n",
    "from typing import Optional, Set, Dict\n",
    "import matplotlib.pyplot as plt\n",
    "import pandas as pd\n",
    "import re"
   ],
   "metadata": {
    "collapsed": false,
    "ExecuteTime": {
     "start_time": "2023-05-03T00:39:11.933972Z",
     "end_time": "2023-05-03T00:39:11.949641Z"
    }
   }
  },
  {
   "cell_type": "markdown",
   "source": [
    "# 1. Load texts data from Excel file"
   ],
   "metadata": {
    "collapsed": false
   }
  },
  {
   "cell_type": "code",
   "execution_count": 14,
   "outputs": [
    {
     "data": {
      "text/plain": "   person_id                                        person_text  text_length   \n0          0  вот <NAME> <NAME> я устраевали слава как жывой...        15177  \\\n1          1  Привет) Я Максим) Тебе сколько лет? Мне 29 Что...        14650   \n2          2  Привет! Как тебя зовут?) А я- Саша, очень прия...        13003   \n3          3  Привет Снимаю новый влог на свой канал) Я блог...        12771   \n4          4  Привет Учу детей в школе Отлично, рада за тебя...        12533   \n\n   word_count  \n0        2540  \n1        2541  \n2        2274  \n3        2184  \n4        2202  ",
      "text/html": "<div>\n<style scoped>\n    .dataframe tbody tr th:only-of-type {\n        vertical-align: middle;\n    }\n\n    .dataframe tbody tr th {\n        vertical-align: top;\n    }\n\n    .dataframe thead th {\n        text-align: right;\n    }\n</style>\n<table border=\"1\" class=\"dataframe\">\n  <thead>\n    <tr style=\"text-align: right;\">\n      <th></th>\n      <th>person_id</th>\n      <th>person_text</th>\n      <th>text_length</th>\n      <th>word_count</th>\n    </tr>\n  </thead>\n  <tbody>\n    <tr>\n      <th>0</th>\n      <td>0</td>\n      <td>вот &lt;NAME&gt; &lt;NAME&gt; я устраевали слава как жывой...</td>\n      <td>15177</td>\n      <td>2540</td>\n    </tr>\n    <tr>\n      <th>1</th>\n      <td>1</td>\n      <td>Привет) Я Максим) Тебе сколько лет? Мне 29 Что...</td>\n      <td>14650</td>\n      <td>2541</td>\n    </tr>\n    <tr>\n      <th>2</th>\n      <td>2</td>\n      <td>Привет! Как тебя зовут?) А я- Саша, очень прия...</td>\n      <td>13003</td>\n      <td>2274</td>\n    </tr>\n    <tr>\n      <th>3</th>\n      <td>3</td>\n      <td>Привет Снимаю новый влог на свой канал) Я блог...</td>\n      <td>12771</td>\n      <td>2184</td>\n    </tr>\n    <tr>\n      <th>4</th>\n      <td>4</td>\n      <td>Привет Учу детей в школе Отлично, рада за тебя...</td>\n      <td>12533</td>\n      <td>2202</td>\n    </tr>\n  </tbody>\n</table>\n</div>"
     },
     "execution_count": 14,
     "metadata": {},
     "output_type": "execute_result"
    }
   ],
   "source": [
    "users_msgs_df = pd.read_excel(\"message_dataset.xlsx\", usecols=['person_id', 'person_text', 'text_length', 'word_count'], index_col=False)\n",
    "users_msgs_df.head()"
   ],
   "metadata": {
    "collapsed": false,
    "ExecuteTime": {
     "start_time": "2023-05-03T00:41:51.699437Z",
     "end_time": "2023-05-03T00:41:51.735245Z"
    }
   }
  },
  {
   "cell_type": "markdown",
   "source": [
    "# 2. Clean all symbols exclude space and russian letters, make all letters lowercase, replace all words with 3 or more repeating letters to one letter, replace all spaces and newlines with one space"
   ],
   "metadata": {
    "collapsed": false
   }
  },
  {
   "cell_type": "code",
   "execution_count": 15,
   "outputs": [
    {
     "data": {
      "text/plain": "   person_id                                        person_text  text_length   \n0          0  вот я устраевали слава как жывой богом в но вы...        15177  \\\n1          1  привет я максим тебе сколько лет мне что любиш...        14650   \n2          2  привет как тебя зовут а я саша очень приятно ж...        13003   \n3          3  привет снимаю новый влог на свой канал я блоге...        12771   \n4          4  привет учу детей в школе отлично рада за тебя ...        12533   \n\n   word_count  \n0        2540  \n1        2541  \n2        2274  \n3        2184  \n4        2202  ",
      "text/html": "<div>\n<style scoped>\n    .dataframe tbody tr th:only-of-type {\n        vertical-align: middle;\n    }\n\n    .dataframe tbody tr th {\n        vertical-align: top;\n    }\n\n    .dataframe thead th {\n        text-align: right;\n    }\n</style>\n<table border=\"1\" class=\"dataframe\">\n  <thead>\n    <tr style=\"text-align: right;\">\n      <th></th>\n      <th>person_id</th>\n      <th>person_text</th>\n      <th>text_length</th>\n      <th>word_count</th>\n    </tr>\n  </thead>\n  <tbody>\n    <tr>\n      <th>0</th>\n      <td>0</td>\n      <td>вот я устраевали слава как жывой богом в но вы...</td>\n      <td>15177</td>\n      <td>2540</td>\n    </tr>\n    <tr>\n      <th>1</th>\n      <td>1</td>\n      <td>привет я максим тебе сколько лет мне что любиш...</td>\n      <td>14650</td>\n      <td>2541</td>\n    </tr>\n    <tr>\n      <th>2</th>\n      <td>2</td>\n      <td>привет как тебя зовут а я саша очень приятно ж...</td>\n      <td>13003</td>\n      <td>2274</td>\n    </tr>\n    <tr>\n      <th>3</th>\n      <td>3</td>\n      <td>привет снимаю новый влог на свой канал я блоге...</td>\n      <td>12771</td>\n      <td>2184</td>\n    </tr>\n    <tr>\n      <th>4</th>\n      <td>4</td>\n      <td>привет учу детей в школе отлично рада за тебя ...</td>\n      <td>12533</td>\n      <td>2202</td>\n    </tr>\n  </tbody>\n</table>\n</div>"
     },
     "execution_count": 15,
     "metadata": {},
     "output_type": "execute_result"
    }
   ],
   "source": [
    "def clean_text(text):\n",
    "    # make all letters lowercase\n",
    "    text = text.lower()\n",
    "    # replace all symbols except Russian letters and spaces with space\n",
    "    text = re.sub(r'[^а-яё ]', ' ', text)\n",
    "    # replace all letter with 3 or more repeating to 2 letter\n",
    "    text = re.sub(r\"(\\w)\\1{2,}\", r\"\\1\\1\", text)\n",
    "    # replace all spaces and newlines with one space\n",
    "    text = re.sub(r\"( )\\1{1,}\", \" \", text)\n",
    "    return text\n",
    "\n",
    "users_msgs_df['person_text'] = users_msgs_df['person_text'].apply(lambda x: clean_text(x))\n",
    "users_msgs_df.head()"
   ],
   "metadata": {
    "collapsed": false,
    "ExecuteTime": {
     "start_time": "2023-05-03T00:42:46.922532Z",
     "end_time": "2023-05-03T00:42:46.939538Z"
    }
   }
  },
  {
   "cell_type": "markdown",
   "source": [
    "# 3. Calculate letter frequency for each person"
   ],
   "metadata": {
    "collapsed": false
   }
  },
  {
   "cell_type": "code",
   "execution_count": 19,
   "outputs": [
    {
     "data": {
      "text/plain": "   person_id                                        person_text  text_length   \n0          0  вот я устраевали слава как жывой богом в но вы...        15177  \\\n1          1  привет я максим тебе сколько лет мне что любиш...        14650   \n2          2  привет как тебя зовут а я саша очень приятно ж...        13003   \n3          3  привет снимаю новый влог на свой канал я блоге...        12771   \n4          4  привет учу детей в школе отлично рада за тебя ...        12533   \n\n   word_count                                   letter_frequency  \n0        2540  {'а': 8.32, 'б': 2.24, 'в': 5.07, 'г': 1.7, 'д...  \n1        2541  {'а': 8.67, 'б': 2.33, 'в': 4.01, 'г': 1.37, '...  \n2        2274  {'а': 9.86, 'б': 1.6, 'в': 3.82, 'г': 0.74, 'д...  \n3        2184  {'а': 8.68, 'б': 2.22, 'в': 3.67, 'г': 1.11, '...  \n4        2202  {'а': 11.25, 'б': 1.57, 'в': 2.9, 'г': 1.45, '...  ",
      "text/html": "<div>\n<style scoped>\n    .dataframe tbody tr th:only-of-type {\n        vertical-align: middle;\n    }\n\n    .dataframe tbody tr th {\n        vertical-align: top;\n    }\n\n    .dataframe thead th {\n        text-align: right;\n    }\n</style>\n<table border=\"1\" class=\"dataframe\">\n  <thead>\n    <tr style=\"text-align: right;\">\n      <th></th>\n      <th>person_id</th>\n      <th>person_text</th>\n      <th>text_length</th>\n      <th>word_count</th>\n      <th>letter_frequency</th>\n    </tr>\n  </thead>\n  <tbody>\n    <tr>\n      <th>0</th>\n      <td>0</td>\n      <td>вот я устраевали слава как жывой богом в но вы...</td>\n      <td>15177</td>\n      <td>2540</td>\n      <td>{'а': 8.32, 'б': 2.24, 'в': 5.07, 'г': 1.7, 'д...</td>\n    </tr>\n    <tr>\n      <th>1</th>\n      <td>1</td>\n      <td>привет я максим тебе сколько лет мне что любиш...</td>\n      <td>14650</td>\n      <td>2541</td>\n      <td>{'а': 8.67, 'б': 2.33, 'в': 4.01, 'г': 1.37, '...</td>\n    </tr>\n    <tr>\n      <th>2</th>\n      <td>2</td>\n      <td>привет как тебя зовут а я саша очень приятно ж...</td>\n      <td>13003</td>\n      <td>2274</td>\n      <td>{'а': 9.86, 'б': 1.6, 'в': 3.82, 'г': 0.74, 'д...</td>\n    </tr>\n    <tr>\n      <th>3</th>\n      <td>3</td>\n      <td>привет снимаю новый влог на свой канал я блоге...</td>\n      <td>12771</td>\n      <td>2184</td>\n      <td>{'а': 8.68, 'б': 2.22, 'в': 3.67, 'г': 1.11, '...</td>\n    </tr>\n    <tr>\n      <th>4</th>\n      <td>4</td>\n      <td>привет учу детей в школе отлично рада за тебя ...</td>\n      <td>12533</td>\n      <td>2202</td>\n      <td>{'а': 11.25, 'б': 1.57, 'в': 2.9, 'г': 1.45, '...</td>\n    </tr>\n  </tbody>\n</table>\n</div>"
     },
     "execution_count": 19,
     "metadata": {},
     "output_type": "execute_result"
    }
   ],
   "source": [
    "# Standard frequency of letters in Russian language\n",
    "standart_rus_frequency = {'а': 8.01, 'б': 1.59, 'в': 4.54, 'г': 1.7, 'д': 2.98, 'е': 8.45, 'ё': 0.04, 'ж': 0.94, 'з': 1.65, 'и': 7.35, 'й': 1.21, 'к': 3.49, 'л': 4.4, 'м': 3.21, 'н': 6.7, 'о': 10.97, 'п': 2.81, 'р': 4.73, 'с': 5.47, 'т': 6.26, 'у': 2.62, 'ф': 0.26, 'х': 0.97, 'ц': 0.48, 'ч': 1.44, 'ш': 0.73, 'щ': 0.36, 'ъ': 0.04, 'ы': 1.9, 'ь': 1.74, 'э': 0.32, 'ю': 0.64, 'я': 2.01}\n",
    "\n",
    "def calculate_letter_frequency(text: str, letter_set: Optional[Set[str]] = None) -> Dict[str, float]:\n",
    "    calc_freq = {letter: text.count(letter) for letter in letter_set}\n",
    "    total_count = sum(calc_freq.values())\n",
    "    return {key: round((value / total_count)*100, 2) for key, value in calc_freq.items()}\n",
    "\n",
    "# calculate letter frequency\n",
    "users_msgs_df['letter_frequency'] = users_msgs_df['person_text'].apply(lambda x: calculate_letter_frequency(x, standart_rus_frequency))\n",
    "users_msgs_df.head()"
   ],
   "metadata": {
    "collapsed": false,
    "ExecuteTime": {
     "start_time": "2023-05-03T01:02:49.753161Z",
     "end_time": "2023-05-03T01:02:49.784775Z"
    }
   }
  },
  {
   "cell_type": "markdown",
   "source": [
    "# 4. Calculate the mean and standard deviation frequency of letters in control group"
   ],
   "metadata": {
    "collapsed": false
   }
  },
  {
   "cell_type": "code",
   "execution_count": 20,
   "outputs": [
    {
     "data": {
      "text/plain": "        Frequency  Mean_control_group  STD_control_group\nLetter                                                  \nа            8.32            8.767586           1.007517\nб            2.24            2.413793           0.600157\nв            5.07            4.104828           0.604321\nг            1.70            1.349310           0.372184\nд            3.17            2.788966           0.578430",
      "text/html": "<div>\n<style scoped>\n    .dataframe tbody tr th:only-of-type {\n        vertical-align: middle;\n    }\n\n    .dataframe tbody tr th {\n        vertical-align: top;\n    }\n\n    .dataframe thead th {\n        text-align: right;\n    }\n</style>\n<table border=\"1\" class=\"dataframe\">\n  <thead>\n    <tr style=\"text-align: right;\">\n      <th></th>\n      <th>Frequency</th>\n      <th>Mean_control_group</th>\n      <th>STD_control_group</th>\n    </tr>\n    <tr>\n      <th>Letter</th>\n      <th></th>\n      <th></th>\n      <th></th>\n    </tr>\n  </thead>\n  <tbody>\n    <tr>\n      <th>а</th>\n      <td>8.32</td>\n      <td>8.767586</td>\n      <td>1.007517</td>\n    </tr>\n    <tr>\n      <th>б</th>\n      <td>2.24</td>\n      <td>2.413793</td>\n      <td>0.600157</td>\n    </tr>\n    <tr>\n      <th>в</th>\n      <td>5.07</td>\n      <td>4.104828</td>\n      <td>0.604321</td>\n    </tr>\n    <tr>\n      <th>г</th>\n      <td>1.70</td>\n      <td>1.349310</td>\n      <td>0.372184</td>\n    </tr>\n    <tr>\n      <th>д</th>\n      <td>3.17</td>\n      <td>2.788966</td>\n      <td>0.578430</td>\n    </tr>\n  </tbody>\n</table>\n</div>"
     },
     "execution_count": 20,
     "metadata": {},
     "output_type": "execute_result"
    }
   ],
   "source": [
    "# Convert dictionaries into separate columns for each letter\n",
    "df_expanded = pd.concat([users_msgs_df['person_id'], users_msgs_df['letter_frequency'].apply(pd.Series)], axis=1)\n",
    "\n",
    "df_control_group = df_expanded.iloc[1:30]\n",
    "\n",
    "df_compare_frequency_person_0 = pd.DataFrame(list(users_msgs_df['letter_frequency'][0].items()), columns=['Letter', 'Frequency']).set_index('Letter')\n",
    "\n",
    "df_compare_frequency_person_0['Mean_control_group'] = df_control_group.drop(columns=['person_id']).mean()\n",
    "df_compare_frequency_person_0['STD_control_group'] = df_control_group.drop(columns=['person_id']).std()\n",
    "df_compare_frequency_person_0.head()"
   ],
   "metadata": {
    "collapsed": false,
    "ExecuteTime": {
     "start_time": "2023-05-03T01:02:55.200656Z",
     "end_time": "2023-05-03T01:02:55.232059Z"
    }
   }
  },
  {
   "cell_type": "markdown",
   "source": [
    "# 5. Calculate the Z-score for each letter and check anomaly."
   ],
   "metadata": {
    "collapsed": false
   }
  },
  {
   "cell_type": "code",
   "execution_count": 22,
   "outputs": [
    {
     "data": {
      "text/plain": "        Frequency  Mean_control_group  STD_control_group    ZScore  Anomaly\nLetter                                                                     \nа            8.32            8.767586           1.007517 -0.444247    False\nб            2.24            2.413793           0.600157 -0.289579    False\nв            5.07            4.104828           0.604321  1.597118    False\nг            1.70            1.349310           0.372184  0.942248    False\nд            3.17            2.788966           0.578430  0.658739    False",
      "text/html": "<div>\n<style scoped>\n    .dataframe tbody tr th:only-of-type {\n        vertical-align: middle;\n    }\n\n    .dataframe tbody tr th {\n        vertical-align: top;\n    }\n\n    .dataframe thead th {\n        text-align: right;\n    }\n</style>\n<table border=\"1\" class=\"dataframe\">\n  <thead>\n    <tr style=\"text-align: right;\">\n      <th></th>\n      <th>Frequency</th>\n      <th>Mean_control_group</th>\n      <th>STD_control_group</th>\n      <th>ZScore</th>\n      <th>Anomaly</th>\n    </tr>\n    <tr>\n      <th>Letter</th>\n      <th></th>\n      <th></th>\n      <th></th>\n      <th></th>\n      <th></th>\n    </tr>\n  </thead>\n  <tbody>\n    <tr>\n      <th>а</th>\n      <td>8.32</td>\n      <td>8.767586</td>\n      <td>1.007517</td>\n      <td>-0.444247</td>\n      <td>False</td>\n    </tr>\n    <tr>\n      <th>б</th>\n      <td>2.24</td>\n      <td>2.413793</td>\n      <td>0.600157</td>\n      <td>-0.289579</td>\n      <td>False</td>\n    </tr>\n    <tr>\n      <th>в</th>\n      <td>5.07</td>\n      <td>4.104828</td>\n      <td>0.604321</td>\n      <td>1.597118</td>\n      <td>False</td>\n    </tr>\n    <tr>\n      <th>г</th>\n      <td>1.70</td>\n      <td>1.349310</td>\n      <td>0.372184</td>\n      <td>0.942248</td>\n      <td>False</td>\n    </tr>\n    <tr>\n      <th>д</th>\n      <td>3.17</td>\n      <td>2.788966</td>\n      <td>0.578430</td>\n      <td>0.658739</td>\n      <td>False</td>\n    </tr>\n  </tbody>\n</table>\n</div>"
     },
     "execution_count": 22,
     "metadata": {},
     "output_type": "execute_result"
    }
   ],
   "source": [
    "df_compare_frequency_person_0['ZScore'] = (df_compare_frequency_person_0['Frequency'] - df_compare_frequency_person_0['Mean_control_group']) / df_compare_frequency_person_0['STD_control_group']\n",
    "\n",
    "threshold = 2\n",
    "\n",
    "df_compare_frequency_person_0['Anomaly'] = (df_compare_frequency_person_0['ZScore'].abs() > threshold)\n",
    "df_compare_frequency_person_0.head()"
   ],
   "metadata": {
    "collapsed": false,
    "ExecuteTime": {
     "start_time": "2023-05-03T01:06:45.549108Z",
     "end_time": "2023-05-03T01:06:45.580518Z"
    }
   }
  },
  {
   "cell_type": "markdown",
   "source": [
    "# 6. Calculate between letters pronunciation and anomaly frequency between person_#0 and control group"
   ],
   "metadata": {
    "collapsed": false
   }
  },
  {
   "cell_type": "code",
   "execution_count": 29,
   "outputs": [
    {
     "name": "stdout",
     "output_type": "stream",
     "text": [
      "Correlation: 0.14 (out of -1 to 1 possible)\n"
     ]
    }
   ],
   "source": [
    "tested_letter_pronunciation = {'а': 1, 'б': 1, 'в': 1, 'г': 1, 'д': 1, 'е': 1, 'ё': 1, 'ж': 0.5, 'з': 1, 'и': 1, 'й': 1, 'к': 1, 'л': 0.5, 'м': 1, 'н': 1, 'о': 1, 'п': 1, 'р': 0, 'с': 1, 'т': 1, 'у': 1, 'ф': 1, 'х': 1, 'ц': 1, 'ч': 0, 'ш': 0.5, 'щ': 0.5, 'ъ': 1, 'ы': 1, 'ь': 1, 'э': 1, 'ю': 1, 'я': 1}\n",
    "\n",
    "df_compare_frequency_person_0['tested_letter_pronunciation'] = tested_letter_pronunciation.values()\n",
    "corel_of_anomal_and_pronunciation = df_compare_frequency_person_0['Anomaly'].corr(df_compare_frequency_person_0['tested_letter_pronunciation'])\n",
    "print(f'Correlation: {corel_of_anomal_and_pronunciation:.2f} (out of -1 to 1 possible)')"
   ],
   "metadata": {
    "collapsed": false,
    "ExecuteTime": {
     "start_time": "2023-05-03T01:23:21.344799Z",
     "end_time": "2023-05-03T01:23:21.356123Z"
    }
   }
  },
  {
   "cell_type": "code",
   "execution_count": 24,
   "outputs": [
    {
     "data": {
      "text/plain": "<Figure size 1200x1200 with 1 Axes>",
      "image/png": "[encoded data removed]"
     },
     "metadata": {},
     "output_type": "display_data"
    }
   ],
   "source": [
    "def plot_corel_of_anomal_and_pronunciation(df, threshold, corel_of_anomal_and_pronunciation):\n",
    "    # Create figure and plot space\n",
    "    fig, ax = plt.subplots(figsize=(12, 12))\n",
    "\n",
    "    # Add x-axis and y-axis\n",
    "    ax.scatter(df['tested_letter_pronunciation'], df['ZScore'], color='purple')\n",
    "\n",
    "    # Set title and labels for axes\n",
    "    ax.set(xlabel=\"tested_letter_pronunciation\",\n",
    "           ylabel=\"ZScore\",\n",
    "           title=\"Anomaly Detection\")\n",
    "\n",
    "    # Add threshold lines\n",
    "    ax.axhline(y=threshold, color='r', linestyle='--', label=f'Threshold: {threshold:.0f}')\n",
    "    ax.axhline(y=-threshold, color='r', linestyle='--')\n",
    "\n",
    "    # Add correlation text\n",
    "    ax.text(0.05, 0.95, f'Correlation: {corel_of_anomal_and_pronunciation:.2f}', transform=ax.transAxes)\n",
    "\n",
    "    # Adjust the text labels to minimize overlaps\n",
    "    texts = []\n",
    "    for i, letter in enumerate(df.index):\n",
    "        z_score = df['ZScore'][i]\n",
    "        text_color = 'red' if z_score < -threshold or z_score > threshold else 'black'\n",
    "        texts.append(ax.text(df['tested_letter_pronunciation'][i], z_score, letter, ha='center', va='center', color=text_color))\n",
    "\n",
    "    adjust_text(texts)\n",
    "\n",
    "    plt.show()\n",
    "\n",
    "plot_corel_of_anomal_and_pronunciation(df_compare_frequency_person_0, threshold, corel_of_anomal_and_pronunciation)"
   ],
   "metadata": {
    "collapsed": false,
    "ExecuteTime": {
     "start_time": "2023-05-03T01:10:54.788062Z",
     "end_time": "2023-05-03T01:10:57.468413Z"
    }
   }
  },
  {
   "cell_type": "markdown",
   "source": [
    "# 7. Calculate the average word length for each person."
   ],
   "metadata": {
    "collapsed": false
   }
  },
  {
   "cell_type": "code",
   "execution_count": 30,
   "outputs": [
    {
     "data": {
      "text/plain": "   person_id  average_word_length\n0          0             4.648246\n1          1             4.763158\n2          2             4.660920\n3          3             4.807487\n4          4             4.620112",
      "text/html": "<div>\n<style scoped>\n    .dataframe tbody tr th:only-of-type {\n        vertical-align: middle;\n    }\n\n    .dataframe tbody tr th {\n        vertical-align: top;\n    }\n\n    .dataframe thead th {\n        text-align: right;\n    }\n</style>\n<table border=\"1\" class=\"dataframe\">\n  <thead>\n    <tr style=\"text-align: right;\">\n      <th></th>\n      <th>person_id</th>\n      <th>average_word_length</th>\n    </tr>\n  </thead>\n  <tbody>\n    <tr>\n      <th>0</th>\n      <td>0</td>\n      <td>4.648246</td>\n    </tr>\n    <tr>\n      <th>1</th>\n      <td>1</td>\n      <td>4.763158</td>\n    </tr>\n    <tr>\n      <th>2</th>\n      <td>2</td>\n      <td>4.660920</td>\n    </tr>\n    <tr>\n      <th>3</th>\n      <td>3</td>\n      <td>4.807487</td>\n    </tr>\n    <tr>\n      <th>4</th>\n      <td>4</td>\n      <td>4.620112</td>\n    </tr>\n  </tbody>\n</table>\n</div>"
     },
     "execution_count": 30,
     "metadata": {},
     "output_type": "execute_result"
    }
   ],
   "source": [
    "def average_word_length(text):\n",
    "    valid_words = [word for word in text.split()]\n",
    "\n",
    "    total_length = sum(len(word) for word in valid_words)\n",
    "    average_length = total_length / len(valid_words)\n",
    "\n",
    "    return average_length\n",
    "\n",
    "df_words_msgs_length = pd.DataFrame({'person_id': users_msgs_df['person_id'], 'average_word_length': users_msgs_df['person_text'].apply(average_word_length)})\n",
    "df_words_msgs_length.head()"
   ],
   "metadata": {
    "collapsed": false,
    "ExecuteTime": {
     "start_time": "2023-05-03T01:32:10.406756Z",
     "end_time": "2023-05-03T01:32:10.453039Z"
    }
   }
  },
  {
   "cell_type": "markdown",
   "source": [
    "# 8. Calculate the Z-score and compare word length for person_#0 and control group."
   ],
   "metadata": {
    "collapsed": false
   }
  },
  {
   "cell_type": "code",
   "execution_count": 32,
   "outputs": [
    {
     "name": "stdout",
     "output_type": "stream",
     "text": [
      "Anomaly not detected, absolute value of the z-score = 0.04 is less than two standard deviations away from the mean.\n"
     ]
    }
   ],
   "source": [
    "df_filtered_average_word_length = df_words_msgs_length.iloc[1:30]\n",
    "\n",
    "z_score_for_tested_average_word_length = (df_words_msgs_length['average_word_length'][0] - df_filtered_average_word_length['average_word_length'].mean()) / df_filtered_average_word_length['average_word_length'].std()\n",
    "\n",
    "if abs(z_score_for_tested_average_word_length) > 2:\n",
    "    print(f'Anomaly detected, absolute value of the z-score = {abs(z_score_for_tested_average_word_length):.2f} is greater than two standard deviations away from the mean')\n",
    "else:\n",
    "    print(f'Anomaly not detected, absolute value of the z-score = {abs(z_score_for_tested_average_word_length):.2f} is less than two standard deviations away from the mean.')\n"
   ],
   "metadata": {
    "collapsed": false,
    "ExecuteTime": {
     "start_time": "2023-05-03T01:35:26.296491Z",
     "end_time": "2023-05-03T01:35:26.309491Z"
    }
   }
  }
 ],
 "metadata": {
  "kernelspec": {
   "display_name": "Python 3 (ipykernel)",
   "language": "python",
   "name": "python3"
  },
  "language_info": {
   "codemirror_mode": {
    "name": "ipython",
    "version": 3
   },
   "file_extension": ".py",
   "mimetype": "text/x-python",
   "name": "python",
   "nbconvert_exporter": "python",
   "pygments_lexer": "ipython3",
   "version": "3.10.11"
  }
 },
 "nbformat": 4,
 "nbformat_minor": 1
}
